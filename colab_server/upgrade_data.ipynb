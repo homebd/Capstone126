{
  "nbformat": 4,
  "nbformat_minor": 0,
  "metadata": {
    "colab": {
      "provenance": []
    },
    "kernelspec": {
      "name": "python3",
      "display_name": "Python 3"
    },
    "language_info": {
      "name": "python"
    }
  },
  "cells": [
    {
      "cell_type": "code",
      "execution_count": null,
      "metadata": {
        "id": "GRQRnrsAXMF6"
      },
      "outputs": [],
      "source": [
        "import os\n",
        "import json\n",
        "import numpy as np\n",
        "\n",
        "# 클래스 매핑\n",
        "class_mapping = {\n",
        "    \"stand\": 0,\n",
        "    \"sit\": 1,\n",
        "    \"walk\": 2,\n",
        "    \"bow\": 3,\n",
        "    \"fall\": 4,\n",
        "}\n",
        "\n",
        "# 데이터 로드 함수\n",
        "def load_data_from_folders(base_dir):\n",
        "    for class_name, label in class_mapping.items():\n",
        "        X = []\n",
        "        data_size = 0\n",
        "        folder_path = os.path.join(base_dir, class_name)\n",
        "        if os.path.isdir(folder_path):  # 디렉토리인 경우만 처리\n",
        "            for file in os.listdir(folder_path):\n",
        "                if file.endswith('.json'):\n",
        "                    file_path = os.path.join(folder_path, file)\n",
        "                    with open(file_path, 'r') as f:\n",
        "                        data = json.load(f)\n",
        "                        for frame in data:  # 각 프레임을 개별 데이터로 추가\n",
        "                            data_size += 1\n",
        "                            if data_size == 5000:\n",
        "                                break;\n",
        "                            # 첫 번째 좌표를 기준으로 상대 좌표 변환\n",
        "                            x1, y1, z1 = frame[0], frame[1], frame[2]  # 기준 좌표 추출\n",
        "                            # 변환 로직\n",
        "                            for i in range(0, len(frame), 3):\n",
        "                                  x, y, z = frame[i], frame[i+1], frame[i+2]  # 현재 좌표 추출\n",
        "                                  X.append(x - x1)     # x 상대 좌표\n",
        "                                  X.append(y - y1)     # y 상대 좌표\n",
        "                                  X.append(z - z1)     # z 상대 좌표\n",
        "                if data_size == 5000:\n",
        "                    break;\n",
        "\n",
        "        # JSON으로 저장\n",
        "        #output_data = {\"relative_coordinates\": X}\n",
        "        # 파일로 저장\n",
        "        with open(f\"{class_name}.json\", \"w\") as json_file:\n",
        "            json.dump(X, json_file, indent=4)\n",
        "\n",
        "def test(base_dir):\n",
        "      folder_path = os.path.join(base_dir, \"stand\")\n",
        "      if os.path.isdir(folder_path):  # 디렉토리인 경우만 처리\n",
        "          for file in os.listdir(folder_path):\n",
        "              if file.endswith('.json'):\n",
        "                  file_path = os.path.join(folder_path, file)\n",
        "                  with open(file_path, 'r') as f:\n",
        "                      data = json.load(f)\n",
        "\n",
        "                      for frame in data:  # 각 프레임을 개별 데이터로 추가\n",
        "                          break\n",
        "              break\n",
        "\n",
        "load_data_from_folders(\"/content/dataset\")"
      ]
    },
    {
      "cell_type": "code",
      "source": [
        "import json\n",
        "import numpy as np\n",
        "\n",
        "def augment_frame(frame, translation_range=0.02, scale_range=0.1, rotation_range=10, noise_std=0.005):\n",
        "    \"\"\"\n",
        "    단일 프레임에 증강 기법 적용.\n",
        "    \"\"\"\n",
        "    # (1) Translation: 일정 범위 내에서 좌표 이동\n",
        "    translation = np.random.uniform(-translation_range, translation_range, size=3)\n",
        "    frame_aug = np.array(frame).reshape(-1, 3) + translation  # [x, y, z] 변환\n",
        "\n",
        "    # (2) Scaling: 크기 변환\n",
        "    scale = 1 + np.random.uniform(-scale_range, scale_range)\n",
        "    frame_aug *= scale\n",
        "\n",
        "    # (3) Rotation: z축 기준 회전 (yaw)\n",
        "    theta = np.radians(np.random.uniform(-rotation_range, rotation_range))\n",
        "    rotation_matrix = np.array([\n",
        "        [np.cos(theta), -np.sin(theta), 0],\n",
        "        [np.sin(theta), np.cos(theta), 0],\n",
        "        [0, 0, 1]\n",
        "    ])\n",
        "    frame_aug = np.dot(frame_aug, rotation_matrix.T)\n",
        "\n",
        "    # (4) Noise: 좌표에 노이즈 추가\n",
        "    frame_aug += np.random.normal(0, noise_std, frame_aug.shape)\n",
        "\n",
        "    return frame_aug.flatten().tolist()\n",
        "\n",
        "def augment_json_data(json_file, output_file, num_augmentations=5):\n",
        "    \"\"\"\n",
        "    JSON 파일 데이터 증강.\n",
        "    \"\"\"\n",
        "    with open(json_file, 'r') as f:\n",
        "        data = json.load(f)\n",
        "\n",
        "    augmented_data = []\n",
        "    for frame in data:\n",
        "        #augmented_data.append(frame)  # 원본 데이터 추가\n",
        "        for _ in range(num_augmentations):\n",
        "            augmented_frame = augment_frame(frame)\n",
        "            augmented_data.append(augmented_frame)\n",
        "\n",
        "    with open(output_file, 'w') as f:\n",
        "        json.dump(augmented_data, f, indent=4)\n",
        "\n",
        "    print(f\"Saved augmented data to {output_file}, total frames: {len(augmented_data)}\")\n",
        "\n",
        "# 예제 실행\n",
        "file_name = \"/content/stand.json\"\n",
        "augment_json_data(file_name, file_name, num_augmentations=5)\n"
      ],
      "metadata": {
        "colab": {
          "base_uri": "https://localhost:8080/"
        },
        "id": "Sdbv9NwB9c1J",
        "outputId": "72915cc9-f9f6-42e3-88c0-029c832f5d98"
      },
      "execution_count": null,
      "outputs": [
        {
          "output_type": "stream",
          "name": "stdout",
          "text": [
            "Saved augmented data to /content/stand.json, total frames: 25000\n"
          ]
        }
      ]
    },
    {
      "cell_type": "code",
      "source": [
        "import os\n",
        "import json\n",
        "import numpy as np\n",
        "\n",
        "# 클래스 매핑\n",
        "class_mapping = {\n",
        "    \"stand\": 0,\n",
        "    \"sit\": 1,\n",
        "    \"walk\": 2,\n",
        "    \"bow\": 3,\n",
        "    \"fall\": 4,\n",
        "}\n",
        "\n",
        "def load_data_from_folders(base_dir):\n",
        "    labeled_data = []  # 라벨링된 데이터를 저장할 리스트\n",
        "\n",
        "    for class_name, label in class_mapping.items():\n",
        "        folder_path = os.path.join(base_dir, class_name)\n",
        "        data_size = 0  # 처리한 프레임 수를 카운트\n",
        "        if os.path.isdir(folder_path):  # 디렉토리인 경우만 처리\n",
        "            for file in os.listdir(folder_path):\n",
        "                if file.endswith('.json'):\n",
        "                    file_path = os.path.join(folder_path, file)\n",
        "                    with open(file_path, 'r') as f:\n",
        "                        data = json.load(f)\n",
        "                        for frame in data:  # 각 프레임을 개별 데이터로 추가\n",
        "                            if data_size == 5000:\n",
        "                                break\n",
        "                            # 첫 번째 좌표를 기준으로 상대 좌표 변환\n",
        "                            x1, y1, z1 = frame[0], frame[1], frame[2]  # 기준 좌표 추출\n",
        "                            relative_frame = []  # 상대 좌표 변환된 프레임\n",
        "                            for i in range(0, len(frame), 3):\n",
        "                                x, y, z = frame[i], frame[i + 1], frame[i + 2]  # 현재 좌표 추출\n",
        "                                relative_frame.extend([x - x1, y - y1, z - z1])  # 상대 좌표 추가\n",
        "                            # 라벨 추가\n",
        "                            labeled_frame = relative_frame + [label]\n",
        "                            labeled_data.append(labeled_frame)\n",
        "                            data_size += 1\n",
        "                if data_size == 5000:\n",
        "                    break\n",
        "\n",
        "    # 라벨링된 데이터를 하나의 JSON 파일로 저장\n",
        "    output_file = \"labeled_dataset.json\"\n",
        "    with open(output_file, \"w\") as json_file:\n",
        "        json.dump(labeled_data, json_file, indent=4)\n",
        "    print(f\"Saved labeled data to {output_file}, total frames: {len(labeled_data)}\")\n",
        "\n",
        "# 데이터 로드 함수 실행\n",
        "load_data_from_folders(\"/content/dataset\")\n"
      ],
      "metadata": {
        "colab": {
          "base_uri": "https://localhost:8080/",
          "height": 297
        },
        "id": "Yhcf_5OqIEQp",
        "outputId": "05e75257-7ac1-4b18-d8b7-fba4c8f98bf0"
      },
      "execution_count": null,
      "outputs": [
        {
          "output_type": "error",
          "ename": "TypeError",
          "evalue": "'float' object is not subscriptable",
          "traceback": [
            "\u001b[0;31m---------------------------------------------------------------------------\u001b[0m",
            "\u001b[0;31mTypeError\u001b[0m                                 Traceback (most recent call last)",
            "\u001b[0;32m<ipython-input-4-9ef2d12991cf>\u001b[0m in \u001b[0;36m<cell line: 49>\u001b[0;34m()\u001b[0m\n\u001b[1;32m     47\u001b[0m \u001b[0;34m\u001b[0m\u001b[0m\n\u001b[1;32m     48\u001b[0m \u001b[0;31m# 데이터 로드 함수 실행\u001b[0m\u001b[0;34m\u001b[0m\u001b[0;34m\u001b[0m\u001b[0m\n\u001b[0;32m---> 49\u001b[0;31m \u001b[0mload_data_from_folders\u001b[0m\u001b[0;34m(\u001b[0m\u001b[0;34m\"/content/dataset\"\u001b[0m\u001b[0;34m)\u001b[0m\u001b[0;34m\u001b[0m\u001b[0;34m\u001b[0m\u001b[0m\n\u001b[0m",
            "\u001b[0;32m<ipython-input-4-9ef2d12991cf>\u001b[0m in \u001b[0;36mload_data_from_folders\u001b[0;34m(base_dir)\u001b[0m\n\u001b[1;32m     28\u001b[0m                                 \u001b[0;32mbreak\u001b[0m\u001b[0;34m\u001b[0m\u001b[0;34m\u001b[0m\u001b[0m\n\u001b[1;32m     29\u001b[0m                             \u001b[0;31m# 첫 번째 좌표를 기준으로 상대 좌표 변환\u001b[0m\u001b[0;34m\u001b[0m\u001b[0;34m\u001b[0m\u001b[0m\n\u001b[0;32m---> 30\u001b[0;31m                             \u001b[0mx1\u001b[0m\u001b[0;34m,\u001b[0m \u001b[0my1\u001b[0m\u001b[0;34m,\u001b[0m \u001b[0mz1\u001b[0m \u001b[0;34m=\u001b[0m \u001b[0mframe\u001b[0m\u001b[0;34m[\u001b[0m\u001b[0;36m0\u001b[0m\u001b[0;34m]\u001b[0m\u001b[0;34m,\u001b[0m \u001b[0mframe\u001b[0m\u001b[0;34m[\u001b[0m\u001b[0;36m1\u001b[0m\u001b[0;34m]\u001b[0m\u001b[0;34m,\u001b[0m \u001b[0mframe\u001b[0m\u001b[0;34m[\u001b[0m\u001b[0;36m2\u001b[0m\u001b[0;34m]\u001b[0m  \u001b[0;31m# 기준 좌표 추출\u001b[0m\u001b[0;34m\u001b[0m\u001b[0;34m\u001b[0m\u001b[0m\n\u001b[0m\u001b[1;32m     31\u001b[0m                             \u001b[0mrelative_frame\u001b[0m \u001b[0;34m=\u001b[0m \u001b[0;34m[\u001b[0m\u001b[0;34m]\u001b[0m  \u001b[0;31m# 상대 좌표 변환된 프레임\u001b[0m\u001b[0;34m\u001b[0m\u001b[0;34m\u001b[0m\u001b[0m\n\u001b[1;32m     32\u001b[0m                             \u001b[0;32mfor\u001b[0m \u001b[0mi\u001b[0m \u001b[0;32min\u001b[0m \u001b[0mrange\u001b[0m\u001b[0;34m(\u001b[0m\u001b[0;36m0\u001b[0m\u001b[0;34m,\u001b[0m \u001b[0mlen\u001b[0m\u001b[0;34m(\u001b[0m\u001b[0mframe\u001b[0m\u001b[0;34m)\u001b[0m\u001b[0;34m,\u001b[0m \u001b[0;36m3\u001b[0m\u001b[0;34m)\u001b[0m\u001b[0;34m:\u001b[0m\u001b[0;34m\u001b[0m\u001b[0;34m\u001b[0m\u001b[0m\n",
            "\u001b[0;31mTypeError\u001b[0m: 'float' object is not subscriptable"
          ]
        }
      ]
    }
  ]
}